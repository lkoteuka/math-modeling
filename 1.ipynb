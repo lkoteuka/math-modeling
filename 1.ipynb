{
 "cells": [
  {
   "cell_type": "code",
   "execution_count": 47,
   "metadata": {},
   "outputs": [
    {
     "name": "stdout",
     "output_type": "stream",
     "text": [
      "Current matrix size:  2\n",
      "Recreate matrix...\n",
      "Current matrix size:  4\n",
      "Recreate matrix...\n",
      "Recreate matrix...\n",
      "Current matrix size:  8\n",
      "Recreate matrix...\n",
      "Current matrix size:  16\n",
      "Recreate matrix...\n",
      "Recreate matrix...\n",
      "Recreate matrix...\n",
      "Current matrix size:  32\n",
      "Current matrix size:  64\n",
      "Recreate matrix...\n",
      "Current matrix size:  128\n",
      "Current matrix size:  256\n",
      "Current matrix size:  512\n",
      "Recreate matrix...\n",
      "Current matrix size:  1024\n",
      "Recreate matrix...\n",
      "Recreate matrix...\n",
      "Recreate matrix...\n",
      "Current matrix size:  2048\n",
      "Current matrix size:  4096\n"
     ]
    }
   ],
   "source": [
    "import numpy as np\n",
    "import time\n",
    "import matplotlib.pyplot as plt\n",
    "\n",
    "\n",
    "EPS = 1e-4\n",
    "TIME = []\n",
    "SIZE = []\n",
    "SOL_REPEAT = 3\n",
    "MAX_POWER = 13\n",
    "\n",
    "for power in range(1, MAX_POWER):\n",
    "    n = 2**power\n",
    "    SIZE.append(n)\n",
    "    print(\"Current matrix size: \", str(n))\n",
    "    b = np.random.rand(n)\n",
    "    mat = np.random.rand(n, n)\n",
    "    \n",
    "    while np.linalg.det(mat) < EPS:\n",
    "        print(\"Recreate matrix...\")\n",
    "        mat = np.random.rand(n, n)\n",
    "    \n",
    "    mean_time = 0\n",
    "    for i in range(SOL_REPEAT):\n",
    "        time_from = time.time()\n",
    "        np.linalg.solve(mat, b)\n",
    "        mean_time += time.time() - time_from\n",
    "    \n",
    "    TIME.append(mean_time / SOL_REPEAT)"
   ]
  },
  {
   "cell_type": "code",
   "execution_count": 50,
   "metadata": {},
   "outputs": [
    {
     "data": {
      "text/plain": [
       "[<matplotlib.lines.Line2D at 0x7fc60b5d7780>]"
      ]
     },
     "execution_count": 50,
     "metadata": {},
     "output_type": "execute_result"
    },
    {
     "data": {
      "image/png": "[encoded data removed]",
      "text/plain": [
       "<Figure size 432x288 with 1 Axes>"
      ]
     },
     "metadata": {
      "needs_background": "light"
     },
     "output_type": "display_data"
    }
   ],
   "source": [
    "plt.plot(SIZE, TIME)"
   ]
  }
 ],
 "metadata": {
  "kernelspec": {
   "display_name": "Python 3",
   "language": "python",
   "name": "python3"
  },
  "language_info": {
   "codemirror_mode": {
    "name": "ipython",
    "version": 3
   },
   "file_extension": ".py",
   "mimetype": "text/x-python",
   "name": "python",
   "nbconvert_exporter": "python",
   "pygments_lexer": "ipython3",
   "version": "3.7.1"
  }
 },
 "nbformat": 4,
 "nbformat_minor": 4
}

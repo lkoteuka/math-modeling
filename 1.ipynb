{
 "cells": [
  {
   "cell_type": "code",
   "execution_count": 3,
   "metadata": {},
   "outputs": [],
   "source": [
    "import numpy as np\n",
    "import time\n",
    "import matplotlib.pyplot as plt\n",
    "\n",
    "\n",
    "def matrix_minor(A, i, j):\n",
    "    return np.delete(np.delete(A, i, axis=0), j, axis=1)\n",
    "\n",
    "def inverse(A):\n",
    "    result = np.zeros(A.shape)\n",
    "    det_A = np.linalg.det(A)\n",
    "    for i in range(A.shape[0]):\n",
    "        for j in range(A.shape[1]):\n",
    "            tmp = matrix_minor(A, i, j)\n",
    "            if (i + j) % 2 == 1:\n",
    "                result[i, j] = -1 * np.linalg.det(tmp) / det_A\n",
    "            else:\n",
    "                result[i, j] = 1 * np.linalg.det(tmp) / det_A\n",
    "    return result.T"
   ]
  },
  {
   "cell_type": "code",
   "execution_count": 6,
   "metadata": {},
   "outputs": [
    {
     "name": "stdout",
     "output_type": "stream",
     "text": [
      "Current matrix size:  2\n",
      "Current matrix size:  4\n",
      "Current matrix size:  8\n",
      "Current matrix size:  16\n",
      "Recreate matrix...\n",
      "Current matrix size:  32\n",
      "Recreate matrix...\n",
      "Current matrix size:  64\n",
      "Recreate matrix...\n",
      "Current matrix size:  128\n"
     ]
    }
   ],
   "source": [
    "EPS = 1e-4\n",
    "TIME = []\n",
    "SIZE = []\n",
    "SOL_REPEAT = 3\n",
    "MAX_POWER = 8\n",
    "\n",
    "for power in range(1, MAX_POWER):\n",
    "    n = 2**power\n",
    "    SIZE.append(n)\n",
    "    print(\"Current matrix size: \", str(n))\n",
    "    b = np.random.rand(n)\n",
    "    mat = np.random.rand(n, n)\n",
    "    \n",
    "    while np.linalg.det(mat) < EPS:\n",
    "        print(\"Recreate matrix...\")\n",
    "        mat = np.random.rand(n, n)\n",
    "\n",
    "    mean_time = 0\n",
    "    for i in range(SOL_REPEAT):\n",
    "        time_from = time.time()\n",
    "        mat_1 = inverse(mat)\n",
    "#         print(np.linalg.solve(mat, b))\n",
    "#         print(np.matmul(mat_1, b))\n",
    "        np.matmul(mat_1, b)\n",
    "        mean_time += time.time() - time_from\n",
    "    \n",
    "    TIME.append(mean_time / SOL_REPEAT)"
   ]
  },
  {
   "cell_type": "code",
   "execution_count": 7,
   "metadata": {},
   "outputs": [
    {
     "data": {
      "text/plain": [
       "[<matplotlib.lines.Line2D at 0x7f9336422be0>]"
      ]
     },
     "execution_count": 7,
     "metadata": {},
     "output_type": "execute_result"
    },
    {
     "data": {
      "image/png": "[encoded data removed]",
      "text/plain": [
       "<Figure size 432x288 with 1 Axes>"
      ]
     },
     "metadata": {
      "needs_background": "light"
     },
     "output_type": "display_data"
    }
   ],
   "source": [
    "plt.plot(SIZE, TIME)"
   ]
  },
  {
   "cell_type": "code",
   "execution_count": null,
   "metadata": {},
   "outputs": [],
   "source": []
  }
 ],
 "metadata": {
  "kernelspec": {
   "display_name": "Python 3",
   "language": "python",
   "name": "python3"
  }
 },
 "nbformat": 4,
 "nbformat_minor": 4
}

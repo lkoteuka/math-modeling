{
 "cells": [
  {
   "cell_type": "code",
   "execution_count": 20,
   "metadata": {},
   "outputs": [],
   "source": [
    "class Indenter(object):\n",
    "    def __init__(self):\n",
    "        self.counter = -1\n",
    "    def __enter__(self):\n",
    "        self.counter += 1\n",
    "        return self\n",
    "    def __exit__(self, type, value, traceback):\n",
    "        self.counter -= 1\n",
    "    def prints(self, s):\n",
    "        print(\"\\t\" * self.counter + s)"
   ]
  },
  {
   "cell_type": "code",
   "execution_count": 21,
   "metadata": {},
   "outputs": [
    {
     "name": "stdout",
     "output_type": "stream",
     "text": [
      "hi!\n",
      "\thello\n",
      "\t\tbonjour\n",
      "hey\n"
     ]
    }
   ],
   "source": [
    "\n",
    "with Indenter() as indent:\n",
    "    indent.prints('hi!')\n",
    "    with indent:\n",
    "        indent.prints('hello')\n",
    "        with indent:\n",
    "            indent.prints('bonjour')\n",
    "    indent.prints('hey')"
   ]
  }
 ],
 "metadata": {
  "kernelspec": {
   "display_name": "Python 3",
   "language": "python",
   "name": "python3"
  },
  "language_info": {
   "codemirror_mode": {
    "name": "ipython",
    "version": 3
   },
   "file_extension": ".py",
   "mimetype": "text/x-python",
   "name": "python",
   "nbconvert_exporter": "python",
   "pygments_lexer": "ipython3",
   "version": "3.7.1"
  }
 },
 "nbformat": 4,
 "nbformat_minor": 4
}
